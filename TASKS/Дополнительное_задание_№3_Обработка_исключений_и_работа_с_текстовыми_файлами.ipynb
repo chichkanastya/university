{
  "cells": [
    {
      "cell_type": "markdown",
      "metadata": {
        "id": "view-in-github",
        "colab_type": "text"
      },
      "source": [
        "<a href=\"https://colab.research.google.com/github/chichkanastya/university/blob/main/TASKS/%D0%94%D0%BE%D0%BF%D0%BE%D0%BB%D0%BD%D0%B8%D1%82%D0%B5%D0%BB%D1%8C%D0%BD%D0%BE%D0%B5_%D0%B7%D0%B0%D0%B4%D0%B0%D0%BD%D0%B8%D0%B5_%E2%84%963_%D0%9E%D0%B1%D1%80%D0%B0%D0%B1%D0%BE%D1%82%D0%BA%D0%B0_%D0%B8%D1%81%D0%BA%D0%BB%D1%8E%D1%87%D0%B5%D0%BD%D0%B8%D0%B9_%D0%B8_%D1%80%D0%B0%D0%B1%D0%BE%D1%82%D0%B0_%D1%81_%D1%82%D0%B5%D0%BA%D1%81%D1%82%D0%BE%D0%B2%D1%8B%D0%BC%D0%B8_%D1%84%D0%B0%D0%B9%D0%BB%D0%B0%D0%BC%D0%B8.ipynb\" target=\"_parent\"><img src=\"https://colab.research.google.com/assets/colab-badge.svg\" alt=\"Open In Colab\"/></a>"
      ]
    },
    {
      "cell_type": "markdown",
      "id": "bb332bf9",
      "metadata": {
        "id": "bb332bf9"
      },
      "source": [
        "# **Дополнительное задание №3. Обработка исключений и работа с текстовыми файлами**"
      ]
    },
    {
      "cell_type": "markdown",
      "id": "aa6808db",
      "metadata": {
        "id": "aa6808db"
      },
      "source": [
        "**БАЗА:**\n",
        "\n",
        "- **Обработка исключений** позволяет перехватывать и обрабатывать ошибки, возникающие при выполнении программы, предотвращая её аварийное завершение.\n",
        "- **Работа с файлами** - важный навык для чтения, записи и обработки текстовой информации в Python.\n",
        "\n",
        "---"
      ]
    },
    {
      "cell_type": "markdown",
      "id": "2478deca",
      "metadata": {
        "id": "2478deca"
      },
      "source": [
        "## **I. Обработка исключений**"
      ]
    },
    {
      "cell_type": "markdown",
      "id": "0ab0b851",
      "metadata": {
        "id": "0ab0b851"
      },
      "source": [
        "### **Пункт №1. Обработка некорректного индекса (IndexError)**"
      ]
    },
    {
      "cell_type": "markdown",
      "id": "46e69e1f",
      "metadata": {
        "id": "46e69e1f"
      },
      "source": [
        "Создайте список из нескольких элементов (например, [10, 20, 30]). Попросите пользователя ввести индекс элемента, который нужно вывести. Если пользователь введёт индекс, выходящий за границы списка, перехватите IndexError и сообщите об этом.\n",
        "\n",
        "**ОБЯЗАТЕЛЬНО:**\n",
        "- Создайте список из минимум 5 элементов\n",
        "- Покажите содержимое списка перед работой\n",
        "- Протестируйте минимум 4 случая (корректный индекс, отрицательный, слишком большой, нечисловое значение)"
      ]
    },
    {
      "cell_type": "code",
      "execution_count": 3,
      "id": "724c5954",
      "metadata": {
        "id": "724c5954",
        "colab": {
          "base_uri": "https://localhost:8080/"
        },
        "outputId": "83999c58-1a40-41d5-8e97-99b11a2ef5b2"
      },
      "outputs": [
        {
          "output_type": "stream",
          "name": "stdout",
          "text": [
            "[10, 20, 30, 40, 50, 60, 70, 80, 90, 100]\n",
            "Введите индекс элемента: 2\n",
            "30\n",
            "[10, 20, 30, 40, 50, 60, 70, 80, 90, 100]\n",
            "Введите индекс элемента: 100\n",
            "Ваш индекс выходит за границы списка!\n",
            "[10, 20, 30, 40, 50, 60, 70, 80, 90, 100]\n",
            "Введите индекс элемента: -1000000\n",
            "Ваш индекс выходит за границы списка!\n",
            "[10, 20, 30, 40, 50, 60, 70, 80, 90, 100]\n",
            "Введите индекс элемента: привет\n",
            "Вы ввели нечисловое значение!\n"
          ]
        }
      ],
      "source": [
        "# Ваш код и демонстрация работы\n",
        "for i in range (4):\n",
        "  try:\n",
        "      lst = [10, 20, 30, 40, 50, 60, 70, 80, 90, 100]\n",
        "      print(lst)\n",
        "      elem = int(input('Введите индекс элемента: '))\n",
        "      print(lst[elem])\n",
        "  except IndexError:\n",
        "      print('Ваш индекс выходит за границы списка!')\n",
        "  except ValueError:\n",
        "      print('Вы ввели нечисловое значение!')"
      ]
    },
    {
      "cell_type": "markdown",
      "id": "7ac84eec",
      "metadata": {
        "id": "7ac84eec"
      },
      "source": [
        "---"
      ]
    },
    {
      "cell_type": "markdown",
      "id": "f8bfb6e1",
      "metadata": {
        "id": "f8bfb6e1"
      },
      "source": [
        "### **Пункт №2. Обработка исключений в цикле**"
      ]
    },
    {
      "cell_type": "markdown",
      "id": "63c3b706",
      "metadata": {
        "id": "63c3b706"
      },
      "source": [
        "Напишите программу, которая запрашивает у пользователя числа и добавляет их в список.\n",
        "- Если пользователь вводит некорректные данные, программа должна выводить сообщение об ошибке и продолжать работу.\n",
        "- Для выхода из программы пользователь должен ввести \"стоп\".\n",
        "\n",
        "**ОБЯЗАТЕЛЬНО:**\n",
        "- Покажите процесс ввода минимум 7 значений (включая ошибочные)\n",
        "- Выведите финальный список и статистику (сколько чисел введено успешно, сколько ошибок)"
      ]
    },
    {
      "cell_type": "markdown",
      "source": [
        "\n",
        "\n",
        "```\n",
        "# Пример:\n",
        "# Введите число: 10\n",
        "# Введите число: текст (Ошибка: это не число)\n",
        "# Введите число: стоп\n",
        "# Итоговый список: [10]\n",
        "```\n",
        "\n"
      ],
      "metadata": {
        "id": "aiWaEPOuoHDS"
      },
      "id": "aiWaEPOuoHDS"
    },
    {
      "cell_type": "code",
      "execution_count": 4,
      "id": "31448e09",
      "metadata": {
        "id": "31448e09",
        "colab": {
          "base_uri": "https://localhost:8080/"
        },
        "outputId": "23661477-179b-42ea-b838-bf692e020936"
      },
      "outputs": [
        {
          "output_type": "stream",
          "name": "stdout",
          "text": [
            "Введите число: 10\n",
            "Введите число: 20\n",
            "Введите число: привет\n",
            "Ошибка: это не число\n",
            "Введите число: 30\n",
            "Введите число: 40\n",
            "Введите число: 100\n",
            "Введите число: helloworld\n",
            "Ошибка: это не число\n",
            "Введите число: 3029\n",
            "Введите число: 52\n",
            "Введите число: стоп\n",
            "Итоговый список: [10, 20, 30, 40, 100, 3029, 52]\n",
            "Введено успешно: 7, введено ошибочно: 2\n"
          ]
        }
      ],
      "source": [
        "# Ваш код и демонстрация работы\n",
        "lst = []\n",
        "errors = 0\n",
        "while True:\n",
        "    elem = input('Введите число: ')\n",
        "    if elem == 'стоп':\n",
        "        break\n",
        "    try:\n",
        "        lst.append(int(elem))\n",
        "    except ValueError:\n",
        "        print('Ошибка: это не число')\n",
        "        errors +=1\n",
        "print(f'Итоговый список: {lst}')\n",
        "print(f'Введено успешно: {len(lst)}, введено ошибочно: {errors}')\n"
      ]
    },
    {
      "cell_type": "markdown",
      "metadata": {
        "id": "Yv-FNYTEp0vV"
      },
      "source": [
        "---"
      ],
      "id": "Yv-FNYTEp0vV"
    },
    {
      "cell_type": "markdown",
      "id": "5971f85d",
      "metadata": {
        "id": "5971f85d"
      },
      "source": [
        "### **Пункт №3**"
      ]
    },
    {
      "cell_type": "markdown",
      "id": "b1457074",
      "metadata": {
        "id": "b1457074"
      },
      "source": [
        "Создайте функцию `get_list_element(lst, index)`, которая безопасно извлекает элемент списка по индексу с использованием блоков `try`, `except`, `else` и `finally`.\n",
        "\n",
        "Функция должна:\n",
        "- Обрабатывать выход за пределы списка\n",
        "- Обрабатывать некорректный тип индекса\n",
        "- Выводить сообщение о попытке доступа в блоке `finally`\n",
        "\n",
        "**ОБЯЗАТЕЛЬНО:**\n",
        "- Выведите результаты для минимум 4 различных случаев (успешный доступ, выход за границы, отрицательный индекс, нечисловой индекс)\n",
        "- Покажите, что блок `finally` выполняется всегда\n",
        "\n",
        "```python\n",
        "# Пример использования:\n",
        "my_list = [1, 2, 3, 4, 5]\n",
        "get_list_element(my_list, 2)   # Вывод: \"Элемент: 3\", \"Попытка доступа завершена\"\n",
        "get_list_element(my_list, 10)  # Вывод: \"Индекс вне диапазона\", \"Попытка доступа завершена\"\n",
        "```"
      ]
    },
    {
      "cell_type": "code",
      "execution_count": 5,
      "id": "1c067cf3",
      "metadata": {
        "id": "1c067cf3",
        "colab": {
          "base_uri": "https://localhost:8080/"
        },
        "outputId": "35e42813-074a-44b1-edc3-269ba48b2764"
      },
      "outputs": [
        {
          "output_type": "stream",
          "name": "stdout",
          "text": [
            "[1, 2, 3, 4, 5]\n",
            "Введите индекс элемента: 3\n",
            "Элемент: 4\n",
            "Попытка доступа завершена\n",
            "Введите индекс элемента: -100000\n",
            "Индекс вне диапазона\n",
            "Попытка доступа завершена\n",
            "Введите индекс элемента: 1000000000\n",
            "Индекс вне диапазона\n",
            "Попытка доступа завершена\n",
            "Введите индекс элемента: привет\n",
            "Нечисловое значение\n",
            "Попытка доступа завершена\n"
          ]
        }
      ],
      "source": [
        "# Ваш код и демонстрация работы\n",
        "def get_list_element(lst, index):\n",
        "    try:\n",
        "        ans = lst[int(index)]\n",
        "    except IndexError:\n",
        "        print('Индекс вне диапазона')\n",
        "    except ValueError:\n",
        "        print('Нечисловое значение')\n",
        "    else:\n",
        "        print(f'Элемент: {ans}')\n",
        "    finally:\n",
        "        print('Попытка доступа завершена')\n",
        "my_list = [1, 2, 3, 4, 5]\n",
        "print(my_list)\n",
        "get_list_element(my_list, input('Введите индекс элемента: '))\n",
        "get_list_element(my_list, input('Введите индекс элемента: '))\n",
        "get_list_element(my_list, input('Введите индекс элемента: '))\n",
        "get_list_element(my_list, input('Введите индекс элемента: '))"
      ]
    },
    {
      "cell_type": "markdown",
      "id": "b5bb39c7",
      "metadata": {
        "id": "b5bb39c7"
      },
      "source": [
        "---"
      ]
    },
    {
      "cell_type": "markdown",
      "id": "b0972d59",
      "metadata": {
        "id": "b0972d59"
      },
      "source": [
        "## **II. Работа с текстовыми файлами**"
      ]
    },
    {
      "cell_type": "markdown",
      "id": "35729435",
      "metadata": {
        "id": "35729435"
      },
      "source": [
        "### **Пункт №1. Запись в файл**"
      ]
    },
    {
      "cell_type": "markdown",
      "id": "3121365f",
      "metadata": {
        "id": "3121365f"
      },
      "source": [
        "Напишите программу, которая запрашивает у пользователя строку и записывает её в файл output.txt в режиме дозаписи.\n",
        "\n",
        "**ОБЯЗАТЕЛЬНО:**\n",
        "- Запросите у пользователя минимум 3 строки\n",
        "- Покажите содержимое файла после записи"
      ]
    },
    {
      "cell_type": "code",
      "execution_count": 8,
      "id": "cbce6c5f",
      "metadata": {
        "id": "cbce6c5f",
        "colab": {
          "base_uri": "https://localhost:8080/"
        },
        "outputId": "bc67400f-260a-4c20-8d47-225a6d2bf421"
      },
      "outputs": [
        {
          "output_type": "stream",
          "name": "stdout",
          "text": [
            "Введите строку: привет\n",
            "Введите строку: hello\n",
            "Введите строку: hola\n",
            "Введите строку: bonjour\n",
            "Введите строку: hallo\n",
            "привет\n",
            "hello\n",
            "hola\n",
            "привет\n",
            "hello\n",
            "hola\n",
            "bonjour\n",
            "hallo\n",
            "\n"
          ]
        }
      ],
      "source": [
        "# Ваш код и демонстрация работы\n",
        "with open('output.txt', mode='a') as file:\n",
        "    for i in range(5):\n",
        "        txt = input(f'Введите строку: ')\n",
        "        file.write(txt + '\\n')\n",
        "print(open('output.txt').read())"
      ]
    },
    {
      "cell_type": "markdown",
      "id": "361b3d2b",
      "metadata": {
        "id": "361b3d2b"
      },
      "source": [
        "---"
      ]
    },
    {
      "cell_type": "markdown",
      "id": "cce864b4",
      "metadata": {
        "id": "cce864b4"
      },
      "source": [
        "### **Пункт №2. Чтение из файла**"
      ]
    },
    {
      "cell_type": "markdown",
      "id": "4fc83b82",
      "metadata": {
        "id": "4fc83b82"
      },
      "source": [
        "Напишите программу, которая открывает файл output.txt и выводит его содержимое на экран.\n",
        "\n",
        "**ОБЯЗАТЕЛЬНО:**\n",
        "- Создайте файл с минимум 5 строками текста\n",
        "- Покажите содержимое файла целиком\n",
        "- Обработайте случай отсутствующего файла"
      ]
    },
    {
      "cell_type": "code",
      "execution_count": 10,
      "id": "df27a986",
      "metadata": {
        "id": "df27a986",
        "colab": {
          "base_uri": "https://localhost:8080/"
        },
        "outputId": "ef4debe1-f723-46cc-fa15-d5195e0e7f6c"
      },
      "outputs": [
        {
          "output_type": "stream",
          "name": "stdout",
          "text": [
            "привет\n",
            "hello\n",
            "hola\n",
            "привет\n",
            "hello\n",
            "hola\n",
            "bonjour\n",
            "hallo\n",
            "\n"
          ]
        }
      ],
      "source": [
        "# Ваш код и демонстрация работы\n",
        "try:\n",
        "    print(open('output.txt').read())\n",
        "except FileNotFoundError:\n",
        "    print('Файл не найден')"
      ]
    },
    {
      "cell_type": "markdown",
      "id": "2be296a2",
      "metadata": {
        "id": "2be296a2"
      },
      "source": [
        "---"
      ]
    },
    {
      "cell_type": "markdown",
      "id": "045696ba",
      "metadata": {
        "id": "045696ba"
      },
      "source": [
        "### **Пункт №3. Подсчет строк в файле**"
      ]
    },
    {
      "cell_type": "markdown",
      "id": "570ac3e9",
      "metadata": {
        "id": "570ac3e9"
      },
      "source": [
        "Напишите программу, которая открывает файл output.txt и подсчитывает количество строк в нём.\n",
        "\n",
        "**ОБЯЗАТЕЛЬНО:**\n",
        "- Создайте тестовый файл с известным количеством строк (минимум 10)\n",
        "- Покажите первые 3 строки файла\n",
        "- Выведите общее количество строк\n",
        "- Выведите количество непустых строк"
      ]
    },
    {
      "cell_type": "code",
      "execution_count": 15,
      "id": "84aa205a",
      "metadata": {
        "id": "84aa205a",
        "colab": {
          "base_uri": "https://localhost:8080/"
        },
        "outputId": "a23da4be-1413-406f-a12f-7716a4921e56"
      },
      "outputs": [
        {
          "output_type": "stream",
          "name": "stdout",
          "text": [
            "Первые 3 строки:\n",
            "Общее количество строк: 16\n",
            "Количество непустых строк: 14\n"
          ]
        }
      ],
      "source": [
        "# Ваш код и демонстрация работы\n",
        "with open('output.txt', mode='a+') as fl:\n",
        "    fl.writelines(['la\\n', '\\n', 'яблоко\\n', '\\n'])\n",
        "    print('Первые 3 строки:')\n",
        "    for i in range(3):\n",
        "        print(fl.readline(), end='')\n",
        "    fl.seek(0)\n",
        "    stroki = fl.readlines()\n",
        "    print(f'Общее количество строк: {len(stroki)}')\n",
        "    print(f'Количество непустых строк: {len([i for i in stroki if i != '\\n'])}')\n"
      ]
    },
    {
      "cell_type": "markdown",
      "id": "94c6dcb0",
      "metadata": {
        "id": "94c6dcb0"
      },
      "source": [
        "---"
      ]
    },
    {
      "cell_type": "markdown",
      "id": "56f2a74e",
      "metadata": {
        "id": "56f2a74e"
      },
      "source": [
        "### **Пункт №4. Копирование содержимого файла**"
      ]
    },
    {
      "cell_type": "markdown",
      "id": "ed736046",
      "metadata": {
        "id": "ed736046"
      },
      "source": [
        "Напишите программу, которая копирует содержимое файла input.txt в файл output.txt.\n",
        "\n",
        "**ОБЯЗАТЕЛЬНО:**\n",
        "- Создайте исходный файл с тестовым содержимым (минимум 5 строк)\n",
        "- Покажите содержимое исходного файла\n",
        "- Выполните копирование\n",
        "- Покажите содержимое скопированного файла\n",
        "- Обработайте случай отсутствия исходного файла"
      ]
    },
    {
      "cell_type": "code",
      "execution_count": 20,
      "id": "31bd8a06",
      "metadata": {
        "id": "31bd8a06",
        "colab": {
          "base_uri": "https://localhost:8080/"
        },
        "outputId": "59c00ee4-559b-439f-850d-11563e919f72"
      },
      "outputs": [
        {
          "output_type": "stream",
          "name": "stdout",
          "text": [
            "str1\n",
            "str2\n",
            "str3\n",
            "str4\n",
            "str5\n",
            "\n",
            "str1\n",
            "str2\n",
            "str3\n",
            "str4\n",
            "str5\n",
            "\n"
          ]
        }
      ],
      "source": [
        "# Ваш код и демонстрация работы\n",
        "try:\n",
        "    with open('input.txt', mode='w+') as fl:\n",
        "        fl.writelines(['str1\\n','str2\\n','str3\\n','str4\\n','str5\\n'])\n",
        "        fl.seek(0)\n",
        "        data = fl.read()\n",
        "        print(data)\n",
        "        with open('output.txt', mode='w+') as fl2:\n",
        "            fl2.writelines(list(data.split()+'\\n'))\n",
        "            fl2.seek(0)\n",
        "            print(fl2.read())\n",
        "except FileNotFoundError:\n",
        "    print('Файл не найден')\n",
        "except TypeError:\n",
        "  pass\n",
        "\n",
        "with open('input.txt', mode='w') as fl:\n",
        "    fl.writelines(['str1\\n', 'str2\\n', 'str3\\n', 'str4\\n', 'str5\\n'])\n",
        "\n",
        "with open('input.txt') as fl2:\n",
        "    print(fl2.read())\n",
        "\n",
        "with open('input.txt') as fl3:\n",
        "    with open('output.txt', mode='w') as fl4:\n",
        "        fl4.write(fl3.read())\n",
        "\n"
      ]
    },
    {
      "cell_type": "markdown",
      "id": "2f7c8ee5",
      "metadata": {
        "id": "2f7c8ee5"
      },
      "source": [
        "---"
      ]
    },
    {
      "cell_type": "markdown",
      "id": "70ee398b",
      "metadata": {
        "id": "70ee398b"
      },
      "source": [
        "### **Пункт №5. Поиск слова в файле**"
      ]
    },
    {
      "cell_type": "markdown",
      "id": "c67f8987",
      "metadata": {
        "id": "c67f8987"
      },
      "source": [
        "Напишите программу, которая открывает файл output.txt и проверяет, содержится ли в нём слово, введённое пользователем.\n",
        "\n",
        "**ОБЯЗАТЕЛЬНО:**\n",
        "- Создайте файл с минимум 10 строками текста\n",
        "- Покажите содержимое файла\n",
        "- Протестируйте поиск минимум 5 различных слов\n",
        "- Выведите номера строк, где найдено слово\n",
        "- Покажите количество вхождений слова"
      ]
    },
    {
      "cell_type": "code",
      "execution_count": 21,
      "id": "d961bbf3",
      "metadata": {
        "id": "d961bbf3",
        "colab": {
          "base_uri": "https://localhost:8080/"
        },
        "outputId": "2b6c99e4-fac6-4992-da8e-b03a2c4f3e71"
      },
      "outputs": [
        {
          "output_type": "stream",
          "name": "stdout",
          "text": [
            "Жили у бабуси\n",
            "Два веселых гуся.\n",
            "Один серый,\n",
            "Другой белый\n",
            "Два веселых гуся.\n",
            "Мыли гуси лапки\n",
            "В луже у канавки.\n",
            "Один серый,\n",
            "Другой белый\n",
            "Спрятались в канавке.\n",
            "Вот кричит бабуся:\n",
            "Ой, пропали гуси!\n",
            "Один серый,\n",
            "Другой белый\n",
            "Гуси мои, гуси!\n",
            "Выходили гуси,\n",
            "Кланялись бабусе.\n",
            "Один серый,\n",
            "Другой белый —\n",
            "Кланялись бабусе.\n",
            "Слово: гуси\n",
            "Найдено в строках: [6, 12, 15, 16]\n",
            "Всего вхождений: 5\n",
            "Слово: один\n",
            "Найдено в строках: [3, 8, 13, 18]\n",
            "Всего вхождений: 4\n",
            "Слово: два\n",
            "Найдено в строках: [2, 5]\n",
            "Всего вхождений: 2\n",
            "Слово: ой\n",
            "Найдено в строках: [4, 9, 12, 14, 19]\n",
            "Всего вхождений: 5\n",
            "Слово: кланялись\n",
            "Найдено в строках: [17, 20]\n",
            "Всего вхождений: 2\n"
          ]
        }
      ],
      "source": [
        "# Ваш код и демонстрация работы\n",
        "with open('output.txt', mode='w') as f:\n",
        "   f.writelines([\n",
        "    'Жили у бабуси\\n'\n",
        "    'Два веселых гуся.\\n'\n",
        "    'Один серый,\\n'\n",
        "    'Другой белый\\n'\n",
        "    'Два веселых гуся.\\n'\n",
        "    'Мыли гуси лапки\\n'\n",
        "    'В луже у канавки.\\n'\n",
        "    'Один серый,\\n'\n",
        "    'Другой белый\\n'\n",
        "    'Спрятались в канавке.\\n'\n",
        "    'Вот кричит бабуся:\\n'\n",
        "    'Ой, пропали гуси!\\n'\n",
        "    'Один серый,\\n'\n",
        "    'Другой белый\\n'\n",
        "    'Гуси мои, гуси!\\n'\n",
        "    'Выходили гуси,\\n'\n",
        "    'Кланялись бабусе.\\n'\n",
        "    'Один серый,\\n'\n",
        "    'Другой белый —\\n'\n",
        "    'Кланялись бабусе.'])\n",
        "with open('output.txt') as fl:\n",
        "    print(fl.read())\n",
        "    ln = fl.readlines()\n",
        "words = ['гуси', 'один', 'два', 'ой', 'кланялись']\n",
        "\n",
        "for word in words:\n",
        "    print(f'Слово: {word}')\n",
        "\n",
        "    with open('output.txt') as f:\n",
        "        lines = f.readlines()\n",
        "    flines = []\n",
        "    cnt = 0\n",
        "\n",
        "    for i, line in enumerate(lines, 1):\n",
        "        count = line.lower().count(word.lower())\n",
        "        if count > 0:\n",
        "            flines.append(i)\n",
        "            cnt += count\n",
        "\n",
        "    if flines:\n",
        "        print(f'Найдено в строках: {flines}')\n",
        "        print(f'Всего вхождений: {cnt}')\n",
        "    else:\n",
        "        print('Не найдено')\n",
        "\n"
      ]
    },
    {
      "cell_type": "markdown",
      "id": "8d69c77a",
      "metadata": {
        "id": "8d69c77a"
      },
      "source": [
        "---"
      ]
    },
    {
      "cell_type": "markdown",
      "id": "0079e067",
      "metadata": {
        "id": "0079e067"
      },
      "source": [
        "### **Пункт №6. Чтение файла с обработкой FileNotFoundError**"
      ]
    },
    {
      "cell_type": "markdown",
      "id": "c3d27312",
      "metadata": {
        "id": "c3d27312"
      },
      "source": [
        "Напишите программу, которая запрашивает у пользователя имя файла и пытается открыть его. Если файла не существует, перехватите FileNotFoundError и выведите сообщение «Файл не найден!».\n",
        "\n",
        "**ОБЯЗАТЕЛЬНО:**\n",
        "- Протестируйте с существующим файлом\n",
        "- Протестируйте с несуществующим файлом\n",
        "- Покажите содержимое существующего файла"
      ]
    },
    {
      "cell_type": "code",
      "execution_count": 23,
      "id": "0c262bd2",
      "metadata": {
        "id": "0c262bd2",
        "colab": {
          "base_uri": "https://localhost:8080/"
        },
        "outputId": "efdcbe64-7047-41a0-eb36-a98bdaf0b58a"
      },
      "outputs": [
        {
          "output_type": "stream",
          "name": "stdout",
          "text": [
            "Введите имя файла: output.txt\n",
            "Жили у бабуси\n",
            "Два веселых гуся.\n",
            "Один серый,\n",
            "Другой белый\n",
            "Два веселых гуся.\n",
            "Мыли гуси лапки\n",
            "В луже у канавки.\n",
            "Один серый,\n",
            "Другой белый\n",
            "Спрятались в канавке.\n",
            "Вот кричит бабуся:\n",
            "Ой, пропали гуси!\n",
            "Один серый,\n",
            "Другой белый\n",
            "Гуси мои, гуси!\n",
            "Выходили гуси,\n",
            "Кланялись бабусе.\n",
            "Один серый,\n",
            "Другой белый —\n",
            "Кланялись бабусе.\n",
            "Введите имя файла: привет.txt\n",
            "Файл не найден!\n"
          ]
        }
      ],
      "source": [
        "# Ваш код и демонстрация работы\n",
        "for i in range(2):\n",
        "  fname = input('Введите имя файла: ')\n",
        "  try:\n",
        "      print(open(fname).read())\n",
        "  except FileNotFoundError:\n",
        "      print('Файл не найден!')"
      ]
    },
    {
      "cell_type": "markdown",
      "id": "c3258b46",
      "metadata": {
        "id": "c3258b46"
      },
      "source": [
        "---"
      ]
    },
    {
      "cell_type": "markdown",
      "id": "02e0767b",
      "metadata": {
        "id": "02e0767b"
      },
      "source": [
        "### **Пункт №7. Подсчет статистики файла**"
      ]
    },
    {
      "cell_type": "markdown",
      "id": "1c33b711",
      "metadata": {
        "id": "1c33b711"
      },
      "source": [
        "Напишите функцию `file_statistics(filename)`, которая читает текстовый файл и возвращает словарь со статистикой:\n",
        "- Количество строк\n",
        "- Количество слов\n",
        "- Количество символов (с пробелами и без)\n",
        "\n",
        "**ОБЯЗАТЕЛЬНО:**\n",
        "- Создайте тестовый файл с минимум 5 строками текста\n",
        "- Выведите содержимое файла ДО обработки\n",
        "- Выведите полученную статистику\n",
        "- Обработайте случай несуществующего файла\n",
        "\n",
        "```python\n",
        "# Создание тестового файла\n",
        "test_content = \"\"\"Первая строка текста\n",
        "Вторая строка с большим количеством слов\n",
        "Третья строка\n",
        "Четвертая строка для теста\n",
        "Пятая и последняя строка\"\"\"\n",
        "\n",
        "# Сохраните в файл и продемонстрируйте работу\n",
        "```"
      ]
    },
    {
      "cell_type": "code",
      "execution_count": 25,
      "id": "43bfd6b8",
      "metadata": {
        "id": "43bfd6b8",
        "colab": {
          "base_uri": "https://localhost:8080/"
        },
        "outputId": "8ac49c4a-fbfe-4717-9cd3-6d537230cc28"
      },
      "outputs": [
        {
          "output_type": "stream",
          "name": "stdout",
          "text": [
            "Жили у бабуси\n",
            "Два веселых гуся.\n",
            "Один серый,\n",
            "Другой белый\n",
            "Два веселых гуся.\n",
            "Мыли гуси лапки\n",
            "В луже у канавки.\n",
            "Один серый,\n",
            "Другой белый\n",
            "Спрятались в канавке.\n",
            "Вот кричит бабуся:\n",
            "Ой, пропали гуси!\n",
            "Один серый,\n",
            "Другой белый\n",
            "Гуси мои, гуси!\n",
            "Выходили гуси,\n",
            "Кланялись бабусе.\n",
            "Один серый,\n",
            "Другой белый —\n",
            "Кланялись бабусе.\n",
            "Количество строк: 20\n",
            "Количество слов: 51\n",
            "Количество символов с пробелами: 311\n",
            "Количество символов без пробелов: 280\n"
          ]
        }
      ],
      "source": [
        "# Ваш код и демонстрация работы\n",
        "def file_statistics(fname):\n",
        "    try:\n",
        "        with open(fname) as f:\n",
        "            text = f.read()\n",
        "\n",
        "        lines = text.split('\\n')\n",
        "        words = text.split()\n",
        "\n",
        "        return {\n",
        "            'lines': len(lines),\n",
        "            'words': len(words),\n",
        "            'chars_with_spaces': len(text),\n",
        "            'chars_without_spaces': len(text.replace(' ', ''))\n",
        "        }\n",
        "\n",
        "    except FileNotFoundError:\n",
        "        print('Файл не найден')\n",
        "\n",
        "\n",
        "with open('test.txt', mode='w') as f:\n",
        "    f.writelines([\n",
        "    'Жили у бабуси\\n'\n",
        "    'Два веселых гуся.\\n'\n",
        "    'Один серый,\\n'\n",
        "    'Другой белый\\n'\n",
        "    'Два веселых гуся.\\n'\n",
        "    'Мыли гуси лапки\\n'\n",
        "    'В луже у канавки.\\n'\n",
        "    'Один серый,\\n'\n",
        "    'Другой белый\\n'\n",
        "    'Спрятались в канавке.\\n'\n",
        "    'Вот кричит бабуся:\\n'\n",
        "    'Ой, пропали гуси!\\n'\n",
        "    'Один серый,\\n'\n",
        "    'Другой белый\\n'\n",
        "    'Гуси мои, гуси!\\n'\n",
        "    'Выходили гуси,\\n'\n",
        "    'Кланялись бабусе.\\n'\n",
        "    'Один серый,\\n'\n",
        "    'Другой белый —\\n'\n",
        "    'Кланялись бабусе.'])\n",
        "\n",
        "with open('test.txt') as f:\n",
        "    print(f.read())\n",
        "\n",
        "stats = file_statistics('test.txt')\n",
        "\n",
        "if stats:\n",
        "    print(f\"Количество строк: {stats['lines']}\")\n",
        "    print(f\"Количество слов: {stats['words']}\")\n",
        "    print(f\"Количество символов с пробелами: {stats['chars_with_spaces']}\")\n",
        "    print(f\"Количество символов без пробелов: {stats['chars_without_spaces']}\")"
      ]
    },
    {
      "cell_type": "markdown",
      "id": "903281dd",
      "metadata": {
        "id": "903281dd"
      },
      "source": [
        "---"
      ]
    },
    {
      "cell_type": "markdown",
      "id": "ad8b4ae4",
      "metadata": {
        "id": "ad8b4ae4"
      },
      "source": [
        "### **Пункт №8. Поиск и замена в файле**"
      ]
    },
    {
      "cell_type": "markdown",
      "id": "e5230d0a",
      "metadata": {
        "id": "e5230d0a"
      },
      "source": [
        "Напишите функцию `replace_in_file(filename, old_text, new_text)`, которая заменяет все вхождения `old_text` на `new_text` в файле и сохраняет результат в новый файл с префиксом \"modified_\".\n",
        "\n",
        "**ОБЯЗАТЕЛЬНО:**\n",
        "- Создайте файл с текстом, содержащим минимум 3 вхождения заменяемого слова\n",
        "- Выведите содержимое файла ДО замены\n",
        "- Выполните замену\n",
        "- Выведите содержимое файла ПОСЛЕ замены\n",
        "- Покажите количество произведенных замен"
      ]
    },
    {
      "cell_type": "code",
      "execution_count": 35,
      "id": "64a05e35",
      "metadata": {
        "id": "64a05e35",
        "colab": {
          "base_uri": "https://localhost:8080/"
        },
        "outputId": "8e225ca2-9d0a-4ae1-9fb5-c3b7262d353e"
      },
      "outputs": [
        {
          "output_type": "stream",
          "name": "stdout",
          "text": [
            "До замены:\n",
            "Жили у бабуси\n",
            "Два веселых гуся.\n",
            "Один серый,\n",
            "Другой белый\n",
            "Два веселых гуся.\n",
            "Количество замен: 2\n",
            "После замены:\n",
            "Жили у бабуси\n",
            "Два красивых гуся.\n",
            "Один серый,\n",
            "Другой белый\n",
            "Два красивых гуся.\n"
          ]
        }
      ],
      "source": [
        "# Ваш код и демонстрация работы\n",
        "def replace_in_file(filename, old_text, new_text):\n",
        "    try:\n",
        "        with open(filename) as f:\n",
        "            data = f.read()\n",
        "\n",
        "        new_word = data.replace(old_text, new_text)\n",
        "        cnt = data.count(old_text)\n",
        "\n",
        "        with open(filename, mode='w') as f:\n",
        "            f.write(new_word)\n",
        "\n",
        "        return cnt, filename\n",
        "\n",
        "    except FileNotFoundError:\n",
        "        print('Файл не найден')\n",
        "\n",
        "\n",
        "\n",
        "\n",
        "with open('gusi.txt', mode='w') as f:\n",
        "    f.writelines([\n",
        "    'Жили у бабуси\\n'\n",
        "    'Два веселых гуся.\\n'\n",
        "    'Один серый,\\n'\n",
        "    'Другой белый\\n'\n",
        "    'Два веселых гуся.'])\n",
        "\n",
        "print('До замены:')\n",
        "with open('gusi.txt') as f:\n",
        "    print(f.read())\n",
        "\n",
        "cnt, new_file = replace_in_file('gusi.txt', 'веселых', 'красивых')\n",
        "\n",
        "print(f'Количество замен: {cnt}')\n",
        "print('После замены:')\n",
        "with open(new_file) as f:\n",
        "    print(f.read())\n"
      ]
    },
    {
      "cell_type": "markdown",
      "id": "f77b0568",
      "metadata": {
        "id": "f77b0568"
      },
      "source": [
        "---"
      ]
    },
    {
      "cell_type": "markdown",
      "id": "79a081b1",
      "metadata": {
        "id": "79a081b1"
      },
      "source": [
        "### **Пункт №9. Объединение файлов**"
      ]
    },
    {
      "cell_type": "markdown",
      "id": "599cee3c",
      "metadata": {
        "id": "599cee3c"
      },
      "source": [
        "Создайте функцию `merge_files(file_list, output_file)`, которая объединяет содержимое нескольких текстовых файлов в один, добавляя после каждого разделитель.\n",
        "\n",
        "**ОБЯЗАТЕЛЬНО:**\n",
        "- Создайте минимум 3 файла с разным содержимым\n",
        "- Выведите содержимое КАЖДОГО исходного файла\n",
        "- Выполните объединение\n",
        "- Выведите содержимое результирующего файла"
      ]
    },
    {
      "cell_type": "code",
      "execution_count": 45,
      "id": "581b5868",
      "metadata": {
        "id": "581b5868",
        "colab": {
          "base_uri": "https://localhost:8080/"
        },
        "outputId": "d48bfd98-7f64-4a9d-a65b-d1c645744be0"
      },
      "outputs": [
        {
          "output_type": "stream",
          "name": "stdout",
          "text": [
            "1.txt\n",
            "Файл 1\n",
            "привет\n",
            "2.txt\n",
            "Файл 2\n",
            "hello\n",
            "3.txt\n",
            "Файл 3\n",
            "hola\n",
            "Объединение: \n",
            "Файл 1\n",
            "привет\n",
            "/////////////////////\n",
            "Файл 2\n",
            "hello\n",
            "/////////////////////\n",
            "Файл 3\n",
            "hola\n",
            "/////////////////////\n",
            "\n"
          ]
        }
      ],
      "source": [
        "# Ваш код и демонстрация работы\n",
        "def merge_files(file_list, output_file):\n",
        "    with open(output_file, mode='w') as fl:\n",
        "        for file in file_list:\n",
        "            with open(file) as f:\n",
        "                fl.write(f.read())\n",
        "            fl.write('\\n/////////////////////\\n')\n",
        "\n",
        "with open('1.txt', mode='w') as f:\n",
        "    f.write('Файл 1\\nпривет')\n",
        "\n",
        "with open('2.txt', mode='w') as f:\n",
        "    f.write('Файл 2\\nhello')\n",
        "\n",
        "with open('3.txt', mode='w') as f:\n",
        "    f.write('Файл 3\\nhola')\n",
        "\n",
        "for file in ['1.txt', '2.txt', '3.txt']:\n",
        "    print(file)\n",
        "    with open(file) as f:\n",
        "        print(f.read())\n",
        "\n",
        "merge_files(files, 'result.txt')\n",
        "\n",
        "print('Объединение: ')\n",
        "with open('result.txt') as f:\n",
        "    print(f.read())"
      ]
    },
    {
      "cell_type": "markdown",
      "id": "eb866091",
      "metadata": {
        "id": "eb866091"
      },
      "source": [
        "---"
      ]
    }
  ],
  "metadata": {
    "colab": {
      "provenance": [],
      "include_colab_link": true
    },
    "language_info": {
      "name": "python"
    },
    "kernelspec": {
      "name": "python3",
      "display_name": "Python 3"
    }
  },
  "nbformat": 4,
  "nbformat_minor": 5
}